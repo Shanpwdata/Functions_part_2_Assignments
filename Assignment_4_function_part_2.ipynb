{
 "cells": [
  {
   "cell_type": "markdown",
   "id": "be0361cf-0629-4468-b198-e3083d9230b4",
   "metadata": {},
   "source": [
    "Q1. Create a python program to sort the given list of tuples based on integer value using a\n",
    "lambda function. \n",
    "\n",
    "\n",
    "[('Sachin Tendulkar', 34357), ('Ricky Ponting', 27483), ('Jack Kallis', 25534), ('Virat Kohli', 24936)]"
   ]
  },
  {
   "cell_type": "code",
   "execution_count": 1,
   "id": "72d8091a-2710-4e03-843b-cee67ee662c8",
   "metadata": {},
   "outputs": [
    {
     "name": "stdout",
     "output_type": "stream",
     "text": [
      "list of tuples [('Virat Kohli', 24936), ('Jack Kallis', 25534), ('Ricky Ponting', 27483), ('Sachin Tendulkar', 34357)] sorted based on their integer values.\n"
     ]
    }
   ],
   "source": [
    "###Ans_1.\n",
    "l = [('Sachin Tendulkar', 34357), ('Ricky Ponting', 27483), ('Jack Kallis', 25534), ('Virat Kohli', 24936)]\n",
    "l.sort(key = lambda x: x[1])\n",
    "print(f'list of tuples {l} sorted based on their integer values.')"
   ]
  },
  {
   "cell_type": "markdown",
   "id": "744caec0-92ad-408e-9cdb-b849c91a68c0",
   "metadata": {},
   "source": [
    "Q2. Write a Python Program to find the squares of all the numbers in the given list of integers using\n",
    "lambda and map functions.\n",
    "[1, 2, 3, 4, 5, 6, 7, 8, 9, 10]"
   ]
  },
  {
   "cell_type": "code",
   "execution_count": 2,
   "id": "ae5de4ef-5467-490e-8c53-906bc42ba841",
   "metadata": {},
   "outputs": [
    {
     "data": {
      "text/plain": [
       "[1, 4, 9, 16, 25, 36, 49, 64, 81, 100]"
      ]
     },
     "execution_count": 2,
     "metadata": {},
     "output_type": "execute_result"
    }
   ],
   "source": [
    "###Ans_2.\n",
    "l1 = [1, 2, 3, 4, 5, 6, 7, 8, 9, 10]\n",
    "list(map(lambda x:x**2,l1))"
   ]
  },
  {
   "cell_type": "markdown",
   "id": "8a9d3a86-0eed-46d0-8d64-0ae329a84a37",
   "metadata": {},
   "source": [
    "Q3. Write a python program to convert the given list of integers into a tuple of strings. Use map and\n",
    "lambda functions\n",
    "\n",
    "\n",
    "Given String: [1, 2, 3, 4, 5, 6, 7, 8, 9, 10]\n",
    "\n",
    "Expected output: ('1', '2', '3', '4', '5', '6', '7', '8', '9', '10')"
   ]
  },
  {
   "cell_type": "code",
   "execution_count": 3,
   "id": "798ba459-c761-4558-882e-8def76515e5d",
   "metadata": {},
   "outputs": [
    {
     "data": {
      "text/plain": [
       "('1', '2', '3', '4', '5', '6', '7', '8', '9', '10')"
      ]
     },
     "execution_count": 3,
     "metadata": {},
     "output_type": "execute_result"
    }
   ],
   "source": [
    "###Ans_3.\n",
    "l2 = [1, 2, 3, 4, 5, 6, 7, 8, 9, 10]\n",
    "tuple(map(lambda x :(str(x)),l2))"
   ]
  },
  {
   "cell_type": "markdown",
   "id": "5d0d7e96-6bc3-4ac5-90a0-695eaed10858",
   "metadata": {},
   "source": [
    "Q4.  Write a python program using reduce function to compute the product of a list containing numbers\n",
    "from 1 to 25."
   ]
  },
  {
   "cell_type": "code",
   "execution_count": 4,
   "id": "7585ef1a-cfb2-47ca-8e69-50d42aaca8f8",
   "metadata": {},
   "outputs": [
    {
     "data": {
      "text/plain": [
       "[1,\n",
       " 2,\n",
       " 3,\n",
       " 4,\n",
       " 5,\n",
       " 6,\n",
       " 7,\n",
       " 8,\n",
       " 9,\n",
       " 10,\n",
       " 11,\n",
       " 12,\n",
       " 13,\n",
       " 14,\n",
       " 15,\n",
       " 16,\n",
       " 17,\n",
       " 18,\n",
       " 19,\n",
       " 20,\n",
       " 21,\n",
       " 22,\n",
       " 23,\n",
       " 24,\n",
       " 25]"
      ]
     },
     "execution_count": 4,
     "metadata": {},
     "output_type": "execute_result"
    }
   ],
   "source": [
    "###Ans_4.\n",
    "l5 = [x for x in range(1,26)]\n",
    "l5"
   ]
  },
  {
   "cell_type": "code",
   "execution_count": 5,
   "id": "d6fa1a60-419c-429b-b3f0-415c4b7c0388",
   "metadata": {},
   "outputs": [],
   "source": [
    "from functools import reduce"
   ]
  },
  {
   "cell_type": "code",
   "execution_count": 6,
   "id": "9ae18399-5fae-44ab-a277-acc4bdd30668",
   "metadata": {},
   "outputs": [
    {
     "name": "stdout",
     "output_type": "stream",
     "text": [
      "computing of list is 325\n"
     ]
    }
   ],
   "source": [
    "answer = reduce(lambda x,y :x+y ,l5)\n",
    "print(\"computing of list is\",answer)"
   ]
  },
  {
   "cell_type": "markdown",
   "id": "22e07c7a-7cd7-4560-aecd-ef69544c012d",
   "metadata": {},
   "source": [
    "Q5. Write a python program to filter the numbers in a given list that are divisible by 2 and 3 using the\n",
    "filter function.\n",
    "\n",
    "\n",
    "[2, 3, 6, 9, 27, 60, 90, 120, 55, 46]"
   ]
  },
  {
   "cell_type": "code",
   "execution_count": 7,
   "id": "2ff417be-79b1-4851-9dd0-6074899c4805",
   "metadata": {},
   "outputs": [
    {
     "name": "stdout",
     "output_type": "stream",
     "text": [
      "list of Number is divisible by 2 and 3 are  [6, 60, 90, 120]\n"
     ]
    }
   ],
   "source": [
    "###Ans_5.\n",
    "l6 = [2, 3, 6, 9, 27, 60, 90, 120, 55, 46]\n",
    "results = list(filter(lambda x : (x%2==0 and x%3==0),l6))\n",
    "print(\"list of Number is divisible by 2 and 3 are \",results)"
   ]
  },
  {
   "cell_type": "markdown",
   "id": "96bf3e8d-0fb8-4b20-82f4-9cff1dd718c3",
   "metadata": {},
   "source": [
    "Q6. Write a python program to find palindromes in the given list of strings using lambda and filter\n",
    "function.\n",
    "['python', 'php', 'aba', 'radar', 'level']"
   ]
  },
  {
   "cell_type": "code",
   "execution_count": 14,
   "id": "6e3f3579-86c5-4d6f-aafd-e2f793ee188b",
   "metadata": {},
   "outputs": [
    {
     "name": "stdout",
     "output_type": "stream",
     "text": [
      "list of strings is palindrome  ['php', 'aba', 'radar', 'level']\n"
     ]
    }
   ],
   "source": [
    "###Ans_6.\n",
    "l7 = ['python', 'php', 'aba', 'radar', 'level']\n",
    "output = list(filter(lambda x : x == x[::-1], l7))\n",
    "print (\"list of strings is palindrome \", output)"
   ]
  },
  {
   "cell_type": "code",
   "execution_count": null,
   "id": "4bb30326-3480-4f3b-8e1e-9ef1958f157c",
   "metadata": {},
   "outputs": [],
   "source": []
  }
 ],
 "metadata": {
  "kernelspec": {
   "display_name": "Python 3 (ipykernel)",
   "language": "python",
   "name": "python3"
  },
  "language_info": {
   "codemirror_mode": {
    "name": "ipython",
    "version": 3
   },
   "file_extension": ".py",
   "mimetype": "text/x-python",
   "name": "python",
   "nbconvert_exporter": "python",
   "pygments_lexer": "ipython3",
   "version": "3.10.8"
  }
 },
 "nbformat": 4,
 "nbformat_minor": 5
}
